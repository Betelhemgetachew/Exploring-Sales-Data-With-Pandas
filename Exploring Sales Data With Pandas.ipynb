{
 "cells": [
  {
   "cell_type": "markdown",
   "metadata": {},
   "source": [
    "# Exploring Sales data with pandas\n",
    "## Introduction\n",
    "The “sales_data_sample” is a CSV (comma-separated value) that comprises records of 100 sales.  It has 8 columns. These are the date of each sale, the product ID, the product name, the quantity of each product sold, the unit price for each product, the customers who bought the products each identified by an ID, and the country.\n",
    "\n",
    "## Data Loading and Inspection\n",
    "First, the pandas and CSV modules must be imported to import the CSV file.  The “read_csv” method of pandas is used to read it as a Data Frame."
   ]
  },
  {
   "cell_type": "code",
   "execution_count": 22,
   "metadata": {},
   "outputs": [],
   "source": [
    "#importing libraries,loading the csv dataset as a DataFrame named \"df\"\n",
    "import pandas as pd \n",
    "import csv\n",
    "df=pd.read_csv(\"sales_data_sample.csv\")\n"
   ]
  },
  {
   "cell_type": "markdown",
   "metadata": {},
   "source": [
    "## Displaying the first and last 10 rows of the dataset\n",
    "The “.head(10)”  method is used to display the first 10 records."
   ]
  },
  {
   "cell_type": "code",
   "execution_count": 23,
   "metadata": {},
   "outputs": [
    {
     "name": "stdout",
     "output_type": "stream",
     "text": [
      "         Date  ProductID                  ProductName         Category  \\\n",
      "0   7/10/2023       1016        style carry everybody      Electronics   \n",
      "1   3/21/2022       1212                so stay write   Home & Kitchen   \n",
      "2  12/25/2022       9600             toward lawyer we  Beauty & Health   \n",
      "3   6/21/2023       3455              our now foreign      Electronics   \n",
      "4    9/3/2022       7054               always tree be         Clothing   \n",
      "5   8/10/2022       1217            ago person speech      Electronics   \n",
      "6   1/19/2024       4191         without answer maybe  Beauty & Health   \n",
      "7    1/9/2023       2742  possible describe everybody         Clothing   \n",
      "8    1/9/2023       3767           job various writer  Beauty & Health   \n",
      "9   12/9/2022       2737             pick control red   Home & Kitchen   \n",
      "\n",
      "   Quantity  UnitPrice  CustomerID         Country  \n",
      "0        11       0.36       38452         Germany  \n",
      "1         4      38.33       46321          France  \n",
      "2         9      89.57       33071         Germany  \n",
      "3         2      67.55       75434   United States  \n",
      "4        11      89.71       43033         Germany  \n",
      "5        16      57.74       95092          Canada  \n",
      "6        18      83.78       67582         Germany  \n",
      "7        11      70.36       56360          France  \n",
      "8         2      59.62       27902  United Kingdom  \n",
      "9         1      55.72       74177  United Kingdom  \n"
     ]
    }
   ],
   "source": [
    "print(df.head(10))#displaying the first 10 rows of the dataset\n"
   ]
  },
  {
   "cell_type": "code",
   "execution_count": 24,
   "metadata": {},
   "outputs": [
    {
     "name": "stdout",
     "output_type": "stream",
     "text": [
      "          Date  ProductID             ProductName         Category  Quantity  \\\n",
      "90  12/31/2023       4041      several music past      Electronics        19   \n",
      "91   2/18/2023       7863  attorney wonder memory   Home & Kitchen        20   \n",
      "92  10/10/2023       9421        fear three since  Beauty & Health        10   \n",
      "93   4/27/2023       7258     movie magazine pass      Electronics         2   \n",
      "94   1/15/2024       5313        respond time ten     Toys & Games        11   \n",
      "95   8/26/2023       9437      keep evening argue   Home & Kitchen         7   \n",
      "96   7/13/2023       5286       pick likely shake         Clothing        10   \n",
      "97   7/18/2022       5471       idea simply peace     Toys & Games        14   \n",
      "98   3/30/2023       8363       check save result     Toys & Games        18   \n",
      "99    4/9/2023       7418       central know name      Electronics        17   \n",
      "\n",
      "    UnitPrice  CustomerID         Country  \n",
      "90      15.20       33902         Germany  \n",
      "91      80.77       51029         Germany  \n",
      "92      50.62       97320          France  \n",
      "93      59.30       29176          France  \n",
      "94      91.82       78086         Germany  \n",
      "95      69.69       65744  United Kingdom  \n",
      "96      68.49       29428          France  \n",
      "97      90.85       98775         Germany  \n",
      "98      15.37       23285  United Kingdom  \n",
      "99      57.56       99790  United Kingdom  \n"
     ]
    }
   ],
   "source": [
    "#displaying the last 10 rows of the dataset\n",
    "print(df.tail(10))\n"
   ]
  },
  {
   "cell_type": "markdown",
   "metadata": {},
   "source": [
    "## Summary Statistics\n",
    "The summary statistics of the data frame can be calculated by using the describe () method. It provides a summary of the distribution of numerical data. This includes the count, mean, standard deviation, minimum, first quartile, median, third quartile, and maximum."
   ]
  },
  {
   "cell_type": "code",
   "execution_count": 25,
   "metadata": {},
   "outputs": [
    {
     "name": "stdout",
     "output_type": "stream",
     "text": [
      "         ProductID    Quantity   UnitPrice    CustomerID\n",
      "count   100.000000  100.000000  100.000000    100.000000\n",
      "mean   5704.560000   10.280000   55.435800  54707.830000\n",
      "std    2594.129481    5.777141   28.010442  25094.331123\n",
      "min    1016.000000    1.000000    0.360000  10096.000000\n",
      "25%    3548.000000    6.000000   36.382500  32641.000000\n",
      "50%    5504.500000   10.000000   58.755000  51263.500000\n",
      "75%    8000.500000   16.000000   77.645000  76313.000000\n",
      "max    9999.000000   20.000000   99.110000  99790.000000\n"
     ]
    }
   ],
   "source": [
    "# computing the summary statistics including the count,minimum,maximum,quartiles,mean and standard deviation for numerical columns \n",
    "print(df.describe()) "
   ]
  },
  {
   "cell_type": "markdown",
   "metadata": {},
   "source": [
    "The “info()” method is a useful function in pandas that provides a concise summary of a data frame. It displays information about the data frame's columns, including column names, data types of the columns, and the presence of missing values in each column."
   ]
  },
  {
   "cell_type": "code",
   "execution_count": 26,
   "metadata": {},
   "outputs": [
    {
     "name": "stdout",
     "output_type": "stream",
     "text": [
      "<class 'pandas.core.frame.DataFrame'>\n",
      "RangeIndex: 100 entries, 0 to 99\n",
      "Data columns (total 8 columns):\n",
      " #   Column       Non-Null Count  Dtype  \n",
      "---  ------       --------------  -----  \n",
      " 0   Date         100 non-null    object \n",
      " 1   ProductID    100 non-null    int64  \n",
      " 2   ProductName  100 non-null    object \n",
      " 3   Category     100 non-null    object \n",
      " 4   Quantity     100 non-null    int64  \n",
      " 5   UnitPrice    100 non-null    float64\n",
      " 6   CustomerID   100 non-null    int64  \n",
      " 7   Country      100 non-null    object \n",
      "dtypes: float64(1), int64(3), object(4)\n",
      "memory usage: 6.4+ KB\n",
      "None\n"
     ]
    }
   ],
   "source": [
    "#displaying the names of the columns,the data types they contain, and whether they have any missing value\n",
    "print(df.info())"
   ]
  },
  {
   "cell_type": "markdown",
   "metadata": {},
   "source": [
    "## Data Cleaning\n",
    "### Identifying missing values\n",
    "To identify a missing value, the isnull() method can be used. This method returns a boolean mask, indicating which values are missing (True) and which are not missing (False).isnull().sum() returns the number of missing values in each column."
   ]
  },
  {
   "cell_type": "code",
   "execution_count": 27,
   "metadata": {},
   "outputs": [
    {
     "data": {
      "text/plain": [
       "Date           0\n",
       "ProductID      0\n",
       "ProductName    0\n",
       "Category       0\n",
       "Quantity       0\n",
       "UnitPrice      0\n",
       "CustomerID     0\n",
       "Country        0\n",
       "dtype: int64"
      ]
     },
     "execution_count": 27,
     "metadata": {},
     "output_type": "execute_result"
    }
   ],
   "source": [
    "#identifying missing values or null values. if it turns True,then that value is missing\n",
    "df.isnull().sum()"
   ]
  },
  {
   "cell_type": "markdown",
   "metadata": {},
   "source": [
    "A Data-Frame or Series' missing values can be eliminated using the dropna() method in pandas. It enables you to remove rows o with None or NaN (Not a Number) values.\n",
    "Since this data frame has no missing values, the dropna () function will not make any change in the data frame.\n"
   ]
  },
  {
   "cell_type": "code",
   "execution_count": 28,
   "metadata": {},
   "outputs": [
    {
     "name": "stdout",
     "output_type": "stream",
     "text": [
      "None\n"
     ]
    }
   ],
   "source": [
    "# Removing rows that have missing values.\"inplace\" indicates that the removal is done from the same dataframe\n",
    "print(df.dropna(inplace=True))"
   ]
  },
  {
   "cell_type": "markdown",
   "metadata": {},
   "source": [
    "## Identifying duplicates\n",
    "The “.duplicated()” method helps to identify if there are any duplicated rows in the data frame.  It turns Boolean values where “True” indicates the existence of duplicated values and “False” indicates that the row is not duplicated.\n",
    "\".duplicated().sum()\" returns the total number of duplicated values in the dataset."
   ]
  },
  {
   "cell_type": "code",
   "execution_count": 29,
   "metadata": {},
   "outputs": [
    {
     "name": "stdout",
     "output_type": "stream",
     "text": [
      "0\n"
     ]
    }
   ],
   "source": [
    "#identifying duplicates. Turns \"True\" where there is duplicated row\n",
    "print(df.duplicated().sum())"
   ]
  },
  {
   "cell_type": "markdown",
   "metadata": {},
   "source": [
    "## Removing Duplicates\n",
    "To remove the duplicated row (if any) the “drop_duplicates” method can be used. In this case, there are no duplicated values so the code will not make any change in the data frame. So, when the data frame is printed after applying the code, there will be no change in the data frame."
   ]
  },
  {
   "cell_type": "code",
   "execution_count": 30,
   "metadata": {},
   "outputs": [
    {
     "name": "stdout",
     "output_type": "stream",
     "text": [
      "          Date  ProductID            ProductName         Category  Quantity  \\\n",
      "0    7/10/2023       1016  style carry everybody      Electronics        11   \n",
      "1    3/21/2022       1212          so stay write   Home & Kitchen         4   \n",
      "2   12/25/2022       9600       toward lawyer we  Beauty & Health         9   \n",
      "3    6/21/2023       3455        our now foreign      Electronics         2   \n",
      "4     9/3/2022       7054         always tree be         Clothing        11   \n",
      "..         ...        ...                    ...              ...       ...   \n",
      "95   8/26/2023       9437     keep evening argue   Home & Kitchen         7   \n",
      "96   7/13/2023       5286      pick likely shake         Clothing        10   \n",
      "97   7/18/2022       5471      idea simply peace     Toys & Games        14   \n",
      "98   3/30/2023       8363      check save result     Toys & Games        18   \n",
      "99    4/9/2023       7418      central know name      Electronics        17   \n",
      "\n",
      "    UnitPrice  CustomerID         Country  \n",
      "0        0.36       38452         Germany  \n",
      "1       38.33       46321          France  \n",
      "2       89.57       33071         Germany  \n",
      "3       67.55       75434   United States  \n",
      "4       89.71       43033         Germany  \n",
      "..        ...         ...             ...  \n",
      "95      69.69       65744  United Kingdom  \n",
      "96      68.49       29428          France  \n",
      "97      90.85       98775         Germany  \n",
      "98      15.37       23285  United Kingdom  \n",
      "99      57.56       99790  United Kingdom  \n",
      "\n",
      "[100 rows x 8 columns]\n"
     ]
    }
   ],
   "source": [
    "#Removing duplicated row(record) if there is any\n",
    "print(df.drop_duplicates())"
   ]
  },
  {
   "cell_type": "markdown",
   "metadata": {},
   "source": [
    "## Converting the date column to date time format\n",
    "To convert the “Date” column to date time format, the “to_datetime” method is used. This converts the date column into the proper format of date."
   ]
  },
  {
   "cell_type": "code",
   "execution_count": 31,
   "metadata": {},
   "outputs": [
    {
     "name": "stdout",
     "output_type": "stream",
     "text": [
      "         Date  ProductID            ProductName         Category  Quantity  \\\n",
      "0  2023-07-10       1016  style carry everybody      Electronics        11   \n",
      "1  2022-03-21       1212          so stay write   Home & Kitchen         4   \n",
      "2  2022-12-25       9600       toward lawyer we  Beauty & Health         9   \n",
      "3  2023-06-21       3455        our now foreign      Electronics         2   \n",
      "4  2022-09-03       7054         always tree be         Clothing        11   \n",
      "..        ...        ...                    ...              ...       ...   \n",
      "95 2023-08-26       9437     keep evening argue   Home & Kitchen         7   \n",
      "96 2023-07-13       5286      pick likely shake         Clothing        10   \n",
      "97 2022-07-18       5471      idea simply peace     Toys & Games        14   \n",
      "98 2023-03-30       8363      check save result     Toys & Games        18   \n",
      "99 2023-04-09       7418      central know name      Electronics        17   \n",
      "\n",
      "    UnitPrice  CustomerID         Country  \n",
      "0        0.36       38452         Germany  \n",
      "1       38.33       46321          France  \n",
      "2       89.57       33071         Germany  \n",
      "3       67.55       75434   United States  \n",
      "4       89.71       43033         Germany  \n",
      "..        ...         ...             ...  \n",
      "95      69.69       65744  United Kingdom  \n",
      "96      68.49       29428          France  \n",
      "97      90.85       98775         Germany  \n",
      "98      15.37       23285  United Kingdom  \n",
      "99      57.56       99790  United Kingdom  \n",
      "\n",
      "[100 rows x 8 columns]\n"
     ]
    }
   ],
   "source": [
    "# converting the \"Date\" column to \"date time\" format\n",
    "df[\"Date\"]=pd.to_datetime(df[\"Date\"])\n",
    "print(df)"
   ]
  },
  {
   "cell_type": "markdown",
   "metadata": {},
   "source": [
    "## Data Analysis & Visualization\n",
    "#### Calculating the total sales (Quantity * UnitPrice) for each product \n",
    " To calculate the total sales for each product, we create a new column named “Total Sales” and we multiply the quantity and unit price for each product. So, the new column “Total sales” will be the product of the multiplication of quantity and unit product.\n"
   ]
  },
  {
   "cell_type": "code",
   "execution_count": 32,
   "metadata": {},
   "outputs": [
    {
     "name": "stdout",
     "output_type": "stream",
     "text": [
      "        Date  ProductID                  ProductName         Category  \\\n",
      "0 2023-07-10       1016        style carry everybody      Electronics   \n",
      "1 2022-03-21       1212                so stay write   Home & Kitchen   \n",
      "2 2022-12-25       9600             toward lawyer we  Beauty & Health   \n",
      "3 2023-06-21       3455              our now foreign      Electronics   \n",
      "4 2022-09-03       7054               always tree be         Clothing   \n",
      "5 2022-08-10       1217            ago person speech      Electronics   \n",
      "6 2024-01-19       4191         without answer maybe  Beauty & Health   \n",
      "7 2023-01-09       2742  possible describe everybody         Clothing   \n",
      "8 2023-01-09       3767           job various writer  Beauty & Health   \n",
      "9 2022-12-09       2737             pick control red   Home & Kitchen   \n",
      "\n",
      "   Quantity  UnitPrice  CustomerID         Country  TotalSales  \n",
      "0        11       0.36       38452         Germany        3.96  \n",
      "1         4      38.33       46321          France      153.32  \n",
      "2         9      89.57       33071         Germany      806.13  \n",
      "3         2      67.55       75434   United States      135.10  \n",
      "4        11      89.71       43033         Germany      986.81  \n",
      "5        16      57.74       95092          Canada      923.84  \n",
      "6        18      83.78       67582         Germany     1508.04  \n",
      "7        11      70.36       56360          France      773.96  \n",
      "8         2      59.62       27902  United Kingdom      119.24  \n",
      "9         1      55.72       74177  United Kingdom       55.72  \n"
     ]
    }
   ],
   "source": [
    "#Creating a new cloumn named \"TotalSales\",which is the product of the quantity and the unit price\n",
    "df[\"TotalSales\"]=df[\"Quantity\"]*df[\"UnitPrice\"]\n",
    "print(df.head(10))"
   ]
  },
  {
   "cell_type": "markdown",
   "metadata": {},
   "source": [
    "## Displaying the top 10 products with the highest total sales\n",
    "To display the top 10 products with the highest total sales, the total sales column should be sorted in descending order. Then we use the head() method to display the top ten products with the highest total sales."
   ]
  },
  {
   "cell_type": "code",
   "execution_count": 33,
   "metadata": {},
   "outputs": [
    {
     "data": {
      "text/html": [
       "<div>\n",
       "<style scoped>\n",
       "    .dataframe tbody tr th:only-of-type {\n",
       "        vertical-align: middle;\n",
       "    }\n",
       "\n",
       "    .dataframe tbody tr th {\n",
       "        vertical-align: top;\n",
       "    }\n",
       "\n",
       "    .dataframe thead th {\n",
       "        text-align: right;\n",
       "    }\n",
       "</style>\n",
       "<table border=\"1\" class=\"dataframe\">\n",
       "  <thead>\n",
       "    <tr style=\"text-align: right;\">\n",
       "      <th></th>\n",
       "      <th>Date</th>\n",
       "      <th>ProductID</th>\n",
       "      <th>ProductName</th>\n",
       "      <th>Category</th>\n",
       "      <th>Quantity</th>\n",
       "      <th>UnitPrice</th>\n",
       "      <th>CustomerID</th>\n",
       "      <th>Country</th>\n",
       "      <th>TotalSales</th>\n",
       "    </tr>\n",
       "  </thead>\n",
       "  <tbody>\n",
       "    <tr>\n",
       "      <th>20</th>\n",
       "      <td>2024-03-12</td>\n",
       "      <td>7946</td>\n",
       "      <td>give laugh only</td>\n",
       "      <td>Beauty &amp; Health</td>\n",
       "      <td>20</td>\n",
       "      <td>84.32</td>\n",
       "      <td>27315</td>\n",
       "      <td>France</td>\n",
       "      <td>1686.40</td>\n",
       "    </tr>\n",
       "    <tr>\n",
       "      <th>63</th>\n",
       "      <td>2022-04-25</td>\n",
       "      <td>7209</td>\n",
       "      <td>suddenly marriage design</td>\n",
       "      <td>Clothing</td>\n",
       "      <td>19</td>\n",
       "      <td>88.59</td>\n",
       "      <td>87430</td>\n",
       "      <td>Germany</td>\n",
       "      <td>1683.21</td>\n",
       "    </tr>\n",
       "    <tr>\n",
       "      <th>91</th>\n",
       "      <td>2023-02-18</td>\n",
       "      <td>7863</td>\n",
       "      <td>attorney wonder memory</td>\n",
       "      <td>Home &amp; Kitchen</td>\n",
       "      <td>20</td>\n",
       "      <td>80.77</td>\n",
       "      <td>51029</td>\n",
       "      <td>Germany</td>\n",
       "      <td>1615.40</td>\n",
       "    </tr>\n",
       "    <tr>\n",
       "      <th>29</th>\n",
       "      <td>2022-08-09</td>\n",
       "      <td>4758</td>\n",
       "      <td>set million back</td>\n",
       "      <td>Clothing</td>\n",
       "      <td>16</td>\n",
       "      <td>98.32</td>\n",
       "      <td>91076</td>\n",
       "      <td>Canada</td>\n",
       "      <td>1573.12</td>\n",
       "    </tr>\n",
       "    <tr>\n",
       "      <th>65</th>\n",
       "      <td>2022-03-23</td>\n",
       "      <td>9410</td>\n",
       "      <td>that out range</td>\n",
       "      <td>Beauty &amp; Health</td>\n",
       "      <td>16</td>\n",
       "      <td>97.94</td>\n",
       "      <td>38956</td>\n",
       "      <td>United Kingdom</td>\n",
       "      <td>1567.04</td>\n",
       "    </tr>\n",
       "    <tr>\n",
       "      <th>6</th>\n",
       "      <td>2024-01-19</td>\n",
       "      <td>4191</td>\n",
       "      <td>without answer maybe</td>\n",
       "      <td>Beauty &amp; Health</td>\n",
       "      <td>18</td>\n",
       "      <td>83.78</td>\n",
       "      <td>67582</td>\n",
       "      <td>Germany</td>\n",
       "      <td>1508.04</td>\n",
       "    </tr>\n",
       "    <tr>\n",
       "      <th>84</th>\n",
       "      <td>2022-08-29</td>\n",
       "      <td>8466</td>\n",
       "      <td>world standard television</td>\n",
       "      <td>Toys &amp; Games</td>\n",
       "      <td>17</td>\n",
       "      <td>80.17</td>\n",
       "      <td>43431</td>\n",
       "      <td>United States</td>\n",
       "      <td>1362.89</td>\n",
       "    </tr>\n",
       "    <tr>\n",
       "      <th>97</th>\n",
       "      <td>2022-07-18</td>\n",
       "      <td>5471</td>\n",
       "      <td>idea simply peace</td>\n",
       "      <td>Toys &amp; Games</td>\n",
       "      <td>14</td>\n",
       "      <td>90.85</td>\n",
       "      <td>98775</td>\n",
       "      <td>Germany</td>\n",
       "      <td>1271.90</td>\n",
       "    </tr>\n",
       "    <tr>\n",
       "      <th>27</th>\n",
       "      <td>2022-11-23</td>\n",
       "      <td>7552</td>\n",
       "      <td>large situation arrive</td>\n",
       "      <td>Home &amp; Kitchen</td>\n",
       "      <td>16</td>\n",
       "      <td>78.36</td>\n",
       "      <td>18374</td>\n",
       "      <td>Canada</td>\n",
       "      <td>1253.76</td>\n",
       "    </tr>\n",
       "    <tr>\n",
       "      <th>86</th>\n",
       "      <td>2024-02-16</td>\n",
       "      <td>3539</td>\n",
       "      <td>fly set but</td>\n",
       "      <td>Beauty &amp; Health</td>\n",
       "      <td>13</td>\n",
       "      <td>95.13</td>\n",
       "      <td>63093</td>\n",
       "      <td>Canada</td>\n",
       "      <td>1236.69</td>\n",
       "    </tr>\n",
       "  </tbody>\n",
       "</table>\n",
       "</div>"
      ],
      "text/plain": [
       "         Date  ProductID                ProductName         Category  \\\n",
       "20 2024-03-12       7946            give laugh only  Beauty & Health   \n",
       "63 2022-04-25       7209   suddenly marriage design         Clothing   \n",
       "91 2023-02-18       7863     attorney wonder memory   Home & Kitchen   \n",
       "29 2022-08-09       4758           set million back         Clothing   \n",
       "65 2022-03-23       9410             that out range  Beauty & Health   \n",
       "6  2024-01-19       4191       without answer maybe  Beauty & Health   \n",
       "84 2022-08-29       8466  world standard television     Toys & Games   \n",
       "97 2022-07-18       5471          idea simply peace     Toys & Games   \n",
       "27 2022-11-23       7552     large situation arrive   Home & Kitchen   \n",
       "86 2024-02-16       3539                fly set but  Beauty & Health   \n",
       "\n",
       "    Quantity  UnitPrice  CustomerID         Country  TotalSales  \n",
       "20        20      84.32       27315          France     1686.40  \n",
       "63        19      88.59       87430         Germany     1683.21  \n",
       "91        20      80.77       51029         Germany     1615.40  \n",
       "29        16      98.32       91076          Canada     1573.12  \n",
       "65        16      97.94       38956  United Kingdom     1567.04  \n",
       "6         18      83.78       67582         Germany     1508.04  \n",
       "84        17      80.17       43431   United States     1362.89  \n",
       "97        14      90.85       98775         Germany     1271.90  \n",
       "27        16      78.36       18374          Canada     1253.76  \n",
       "86        13      95.13       63093          Canada     1236.69  "
      ]
     },
     "execution_count": 33,
     "metadata": {},
     "output_type": "execute_result"
    }
   ],
   "source": [
    "#Sorting the DataFrame in descending order of the \"TotalSales\".\"inplace=True indicates that the sorting is done with in this DataFrame\"\n",
    "df.sort_values(\"TotalSales\",ascending=False,inplace=True)\n",
    "df.head(10)"
   ]
  },
  {
   "cell_type": "markdown",
   "metadata": {},
   "source": [
    "### Number of sales (count of transactions) per country "
   ]
  },
  {
   "cell_type": "code",
   "execution_count": 34,
   "metadata": {},
   "outputs": [
    {
     "data": {
      "text/plain": [
       "<Axes: title={'center': 'Total Number of Sales per Country'}, xlabel='Country', ylabel='Total Number of Sales'>"
      ]
     },
     "execution_count": 34,
     "metadata": {},
     "output_type": "execute_result"
    },
    {
     "data": {
      "image/png": "[encoded data removed]",
      "text/plain": [
       "<Figure size 640x480 with 1 Axes>"
      ]
     },
     "metadata": {},
     "output_type": "display_data"
    }
   ],
   "source": [
    "#Grouping the dataset by country and calculating the total sales for each country\n",
    "TotalSalesSum=df.groupby(\"Country\")[\"TotalSales\"].sum()\n",
    "#plotting a bar chart for total transaction per country\n",
    "TotalSalesSum.plot(kind=\"bar\", rot=45,color=\"purple\",xlabel=\"Country\",ylabel=\"Total Number of Sales\",title=\"Total Number of Sales per Country\")"
   ]
  },
  {
   "cell_type": "markdown",
   "metadata": {},
   "source": [
    "### Analyzing sales trends over time"
   ]
  },
  {
   "cell_type": "code",
   "execution_count": 35,
   "metadata": {},
   "outputs": [
    {
     "name": "stderr",
     "output_type": "stream",
     "text": [
      "C:\\Users\\Admin\\AppData\\Local\\Temp\\ipykernel_2896\\3542201675.py:2: FutureWarning: 'M' is deprecated and will be removed in a future version, please use 'ME' instead.\n",
      "  monthly_sales=df.groupby(pd.Grouper(key=\"Date\",freq=\"M\"))[\"TotalSales\"].sum()\n"
     ]
    },
    {
     "data": {
      "text/plain": [
       "<Axes: xlabel='Date'>"
      ]
     },
     "execution_count": 35,
     "metadata": {},
     "output_type": "execute_result"
    },
    {
     "data": {
      "image/png": "[encoded data removed]",
      "text/plain": [
       "<Figure size 640x480 with 1 Axes>"
      ]
     },
     "metadata": {},
     "output_type": "display_data"
    }
   ],
   "source": [
    "#Analyzing sales trends over time by grouping the data by month using group by and grouper\n",
    "monthly_sales=df.groupby(pd.Grouper(key=\"Date\",freq=\"M\"))[\"TotalSales\"].sum()\n",
    "#Plotting a time analysis graph which analyzes sales for each month of the year\n",
    "monthly_sales.plot(kind=\"line\")"
   ]
  },
  {
   "cell_type": "markdown",
   "metadata": {},
   "source": [
    "### What is the best-selling product category?\n",
    "To identify the best-selling product category, we group the data frame by category and calculate the sum of the quantity that was sold for each category. Then we use “idxmax()” function to identify the category with the highest number of sales.\n",
    "So, the best-selling product category is “Beauty and Health”, meaning that many beauty and health products were sold."
   ]
  },
  {
   "cell_type": "code",
   "execution_count": 36,
   "metadata": {},
   "outputs": [
    {
     "data": {
      "text/plain": [
       "'Beauty & Health'"
      ]
     },
     "execution_count": 36,
     "metadata": {},
     "output_type": "execute_result"
    }
   ],
   "source": [
    "#Best selling product category\n",
    "best_selling_cat=df.groupby(\"Category\")[\"TotalSales\"].sum()\n",
    "best_selling_cat.idxmax()\n"
   ]
  },
  {
   "cell_type": "markdown",
   "metadata": {},
   "source": [
    "### Which month has the highest number of sales?\n",
    "To identify the month with the highest number of sales, first, the data frame should be grouped by month. Then we count the number of sales in that month using the count function. Then we use the “Idxmax()” method to identify the month that has the highest number of sales. We can display the name of the month using the “.month_name()” method. \n",
    "\n",
    "So, the month with the highest number of sales is April.\n"
   ]
  },
  {
   "cell_type": "code",
   "execution_count": 37,
   "metadata": {},
   "outputs": [
    {
     "name": "stderr",
     "output_type": "stream",
     "text": [
      "C:\\Users\\Admin\\AppData\\Local\\Temp\\ipykernel_2896\\1114519413.py:2: FutureWarning: 'M' is deprecated and will be removed in a future version, please use 'ME' instead.\n",
      "  monthly_sales=df.groupby(pd.Grouper(key=\"Date\",freq=\"M\"))[\"TotalSales\"].sum()\n"
     ]
    },
    {
     "data": {
      "text/plain": [
       "'April'"
      ]
     },
     "execution_count": 37,
     "metadata": {},
     "output_type": "execute_result"
    }
   ],
   "source": [
    "# Identifying the month which has the highest number of sales\n",
    "monthly_sales=df.groupby(pd.Grouper(key=\"Date\",freq=\"M\"))[\"TotalSales\"].sum()\n",
    "month_with_highest_sales=monthly_sales.idxmax()\n",
    "month_with_highest_sales=month_with_highest_sales.strftime('%B')\n",
    "month_with_highest_sales\n"
   ]
  },
  {
   "cell_type": "markdown",
   "metadata": {},
   "source": [
    "### Who are the top 10 customers by total sales amount?\n",
    "To identify the top ten customers, first, we need to group the data frame by the customer and then calculate the total sales for each customer. Then we sort the data frame in descending order.\n",
    "Then to display the top ten customers, we used the “head(10)” method.\n"
   ]
  },
  {
   "cell_type": "code",
   "execution_count": 38,
   "metadata": {},
   "outputs": [
    {
     "data": {
      "text/plain": [
       "CustomerID\n",
       "27315    1686.40\n",
       "87430    1683.21\n",
       "51029    1615.40\n",
       "91076    1573.12\n",
       "38956    1567.04\n",
       "67582    1508.04\n",
       "43431    1362.89\n",
       "98775    1271.90\n",
       "18374    1253.76\n",
       "63093    1236.69\n",
       "Name: TotalSales, dtype: float64"
      ]
     },
     "execution_count": 38,
     "metadata": {},
     "output_type": "execute_result"
    }
   ],
   "source": [
    " #top 10 customers by total sales amount\n",
    "top_10_customers=df.groupby(\"CustomerID\")[\"TotalSales\"].sum()\n",
    "top_10_customers=top_10_customers.sort_values(ascending=False)\n",
    "top_10_customers.head(10)\n"
   ]
  },
  {
   "cell_type": "markdown",
   "metadata": {},
   "source": [
    "### Summary\n",
    "The sales data analysis and visualization provided valuable insights into the business. The top 10 products with the highest total sales were identified, and sales trends over time were analyzed by grouping data by month. The \"Beauty and Health\" category emerged as the best-selling product category, indicating strong demand for beauty and health-related products. April had the highest number of sales, suggesting businesses can capitalize on this peak period. The top 10 customers by total sales were identified, emphasizing the importance of fostering strong relationships with valuable customers. These insights can guide businesses in making data-driven decisions, optimizing sales strategies, and focusing on growth and customer engagement."
   ]
  }
 ],
 "metadata": {
  "kernelspec": {
   "display_name": "Python 3",
   "language": "python",
   "name": "python3"
  },
  "language_info": {
   "codemirror_mode": {
    "name": "ipython",
    "version": 3
   },
   "file_extension": ".py",
   "mimetype": "text/x-python",
   "name": "python",
   "nbconvert_exporter": "python",
   "pygments_lexer": "ipython3",
   "version": "3.12.1"
  }
 },
 "nbformat": 4,
 "nbformat_minor": 2
}
